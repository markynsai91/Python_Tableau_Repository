{
 "cells": [
  {
   "cell_type": "code",
   "execution_count": 1,
   "id": "17c5dfee-1eec-40bc-9ebf-8ae3ddd9a9a4",
   "metadata": {},
   "outputs": [],
   "source": [
    "import pandas as pd\n",
    "from vaderSentiment.vaderSentiment import SentimentIntensityAnalyzer"
   ]
  },
  {
   "cell_type": "code",
   "execution_count": null,
   "id": "0f0c3162-6596-4dc3-9034-13e72c214574",
   "metadata": {},
   "outputs": [],
   "source": [
    "#reading execel"
   ]
  },
  {
   "cell_type": "code",
   "execution_count": 3,
   "id": "5a263993-f94c-46de-8d5e-2a26b7257045",
   "metadata": {},
   "outputs": [],
   "source": [
    "data= pd.read_excel('/Users/markynsailamar/Dropbox/My Mac (Markynsai’s MacBook Pro)/Documents/UDEMY PROJECT/Blog_Sentiment_Analysis/articles.xlsx')"
   ]
  },
  {
   "cell_type": "code",
   "execution_count": 4,
   "id": "5d5f5c51-649c-4d8e-83a3-ade4deb2a64e",
   "metadata": {},
   "outputs": [
    {
     "data": {
      "text/html": [
       "<div>\n",
       "<style scoped>\n",
       "    .dataframe tbody tr th:only-of-type {\n",
       "        vertical-align: middle;\n",
       "    }\n",
       "\n",
       "    .dataframe tbody tr th {\n",
       "        vertical-align: top;\n",
       "    }\n",
       "\n",
       "    .dataframe thead th {\n",
       "        text-align: right;\n",
       "    }\n",
       "</style>\n",
       "<table border=\"1\" class=\"dataframe\">\n",
       "  <thead>\n",
       "    <tr style=\"text-align: right;\">\n",
       "      <th></th>\n",
       "      <th>article_id</th>\n",
       "      <th>top_article</th>\n",
       "      <th>engagement_reaction_count</th>\n",
       "      <th>engagement_comment_count</th>\n",
       "      <th>engagement_share_count</th>\n",
       "      <th>engagement_comment_plugin_count</th>\n",
       "    </tr>\n",
       "  </thead>\n",
       "  <tbody>\n",
       "    <tr>\n",
       "      <th>count</th>\n",
       "      <td>10437.000000</td>\n",
       "      <td>10435.000000</td>\n",
       "      <td>10319.000000</td>\n",
       "      <td>10319.000000</td>\n",
       "      <td>10319.000000</td>\n",
       "      <td>10319.000000</td>\n",
       "    </tr>\n",
       "    <tr>\n",
       "      <th>mean</th>\n",
       "      <td>5218.000000</td>\n",
       "      <td>0.122089</td>\n",
       "      <td>381.395290</td>\n",
       "      <td>124.032949</td>\n",
       "      <td>196.236263</td>\n",
       "      <td>0.011629</td>\n",
       "    </tr>\n",
       "    <tr>\n",
       "      <th>std</th>\n",
       "      <td>3013.046714</td>\n",
       "      <td>0.327404</td>\n",
       "      <td>4433.344792</td>\n",
       "      <td>965.351188</td>\n",
       "      <td>1020.680229</td>\n",
       "      <td>0.268276</td>\n",
       "    </tr>\n",
       "    <tr>\n",
       "      <th>min</th>\n",
       "      <td>0.000000</td>\n",
       "      <td>0.000000</td>\n",
       "      <td>0.000000</td>\n",
       "      <td>0.000000</td>\n",
       "      <td>0.000000</td>\n",
       "      <td>0.000000</td>\n",
       "    </tr>\n",
       "    <tr>\n",
       "      <th>25%</th>\n",
       "      <td>2609.000000</td>\n",
       "      <td>0.000000</td>\n",
       "      <td>0.000000</td>\n",
       "      <td>0.000000</td>\n",
       "      <td>1.000000</td>\n",
       "      <td>0.000000</td>\n",
       "    </tr>\n",
       "    <tr>\n",
       "      <th>50%</th>\n",
       "      <td>5218.000000</td>\n",
       "      <td>0.000000</td>\n",
       "      <td>1.000000</td>\n",
       "      <td>0.000000</td>\n",
       "      <td>8.000000</td>\n",
       "      <td>0.000000</td>\n",
       "    </tr>\n",
       "    <tr>\n",
       "      <th>75%</th>\n",
       "      <td>7827.000000</td>\n",
       "      <td>0.000000</td>\n",
       "      <td>43.000000</td>\n",
       "      <td>12.000000</td>\n",
       "      <td>47.500000</td>\n",
       "      <td>0.000000</td>\n",
       "    </tr>\n",
       "    <tr>\n",
       "      <th>max</th>\n",
       "      <td>10436.000000</td>\n",
       "      <td>1.000000</td>\n",
       "      <td>354132.000000</td>\n",
       "      <td>48490.000000</td>\n",
       "      <td>39422.000000</td>\n",
       "      <td>15.000000</td>\n",
       "    </tr>\n",
       "  </tbody>\n",
       "</table>\n",
       "</div>"
      ],
      "text/plain": [
       "         article_id   top_article  engagement_reaction_count  \\\n",
       "count  10437.000000  10435.000000               10319.000000   \n",
       "mean    5218.000000      0.122089                 381.395290   \n",
       "std     3013.046714      0.327404                4433.344792   \n",
       "min        0.000000      0.000000                   0.000000   \n",
       "25%     2609.000000      0.000000                   0.000000   \n",
       "50%     5218.000000      0.000000                   1.000000   \n",
       "75%     7827.000000      0.000000                  43.000000   \n",
       "max    10436.000000      1.000000              354132.000000   \n",
       "\n",
       "       engagement_comment_count  engagement_share_count  \\\n",
       "count              10319.000000            10319.000000   \n",
       "mean                 124.032949              196.236263   \n",
       "std                  965.351188             1020.680229   \n",
       "min                    0.000000                0.000000   \n",
       "25%                    0.000000                1.000000   \n",
       "50%                    0.000000                8.000000   \n",
       "75%                   12.000000               47.500000   \n",
       "max                48490.000000            39422.000000   \n",
       "\n",
       "       engagement_comment_plugin_count  \n",
       "count                     10319.000000  \n",
       "mean                          0.011629  \n",
       "std                           0.268276  \n",
       "min                           0.000000  \n",
       "25%                           0.000000  \n",
       "50%                           0.000000  \n",
       "75%                           0.000000  \n",
       "max                          15.000000  "
      ]
     },
     "execution_count": 4,
     "metadata": {},
     "output_type": "execute_result"
    }
   ],
   "source": [
    "#summary of the data\n",
    "data.describe()"
   ]
  },
  {
   "cell_type": "code",
   "execution_count": 31,
   "id": "783daf0f-85d4-4de1-a409-ac09b0aba14c",
   "metadata": {},
   "outputs": [
    {
     "name": "stdout",
     "output_type": "stream",
     "text": [
      "<class 'pandas.core.frame.DataFrame'>\n",
      "RangeIndex: 10437 entries, 0 to 10436\n",
      "Data columns (total 15 columns):\n",
      " #   Column                           Non-Null Count  Dtype  \n",
      "---  ------                           --------------  -----  \n",
      " 0   article_id                       10437 non-null  int64  \n",
      " 1   source_id                        10437 non-null  object \n",
      " 2   source_name                      10437 non-null  object \n",
      " 3   author                           9417 non-null   object \n",
      " 4   title                            10435 non-null  object \n",
      " 5   description                      10413 non-null  object \n",
      " 6   url                              10436 non-null  object \n",
      " 7   url_to_image                     9781 non-null   object \n",
      " 8   published_at                     10436 non-null  object \n",
      " 9   content                          9145 non-null   object \n",
      " 10  top_article                      10435 non-null  float64\n",
      " 11  engagement_reaction_count        10319 non-null  float64\n",
      " 12  engagement_comment_count         10319 non-null  float64\n",
      " 13  engagement_share_count           10319 non-null  float64\n",
      " 14  engagement_comment_plugin_count  10319 non-null  float64\n",
      "dtypes: float64(5), int64(1), object(9)\n",
      "memory usage: 1.2+ MB\n"
     ]
    }
   ],
   "source": [
    "#summary of the columns\n",
    "data.info()"
   ]
  },
  {
   "cell_type": "code",
   "execution_count": 5,
   "id": "a95e9f3b-e9b8-420f-96af-e5b6a22cc652",
   "metadata": {},
   "outputs": [
    {
     "data": {
      "text/plain": [
       "source_id\n",
       "1                             1\n",
       "abc-news                   1139\n",
       "al-jazeera-english          499\n",
       "bbc-news                   1242\n",
       "business-insider           1048\n",
       "cbs-news                    952\n",
       "cnn                        1132\n",
       "espn                         82\n",
       "newsweek                    539\n",
       "reuters                    1252\n",
       "the-irish-times            1232\n",
       "the-new-york-times          986\n",
       "the-wall-street-journal     333\n",
       "Name: article_id, dtype: int64"
      ]
     },
     "execution_count": 5,
     "metadata": {},
     "output_type": "execute_result"
    }
   ],
   "source": [
    "#counting the number of articles per source\n",
    "data.groupby(['source_id'])['article_id'].count()"
   ]
  },
  {
   "cell_type": "code",
   "execution_count": 6,
   "id": "f1c6697b-0fbe-4089-af6e-abc9b16c736c",
   "metadata": {},
   "outputs": [
    {
     "data": {
      "text/plain": [
       "source_id\n",
       "1                                0.0\n",
       "abc-news                    343779.0\n",
       "al-jazeera-english          140410.0\n",
       "bbc-news                    545396.0\n",
       "business-insider            216545.0\n",
       "cbs-news                    459741.0\n",
       "cnn                        1218206.0\n",
       "espn                             0.0\n",
       "newsweek                     93167.0\n",
       "reuters                      16963.0\n",
       "the-irish-times              26838.0\n",
       "the-new-york-times          790449.0\n",
       "the-wall-street-journal      84124.0\n",
       "Name: engagement_reaction_count, dtype: float64"
      ]
     },
     "execution_count": 6,
     "metadata": {},
     "output_type": "execute_result"
    }
   ],
   "source": [
    "#number of reactions by publisher - using sum as we want the total reactions for each source\n",
    "data.groupby(['source_id'])['engagement_reaction_count'].sum()"
   ]
  },
  {
   "cell_type": "code",
   "execution_count": 7,
   "id": "a942e641-cb38-4444-9f23-9ba43f38d933",
   "metadata": {},
   "outputs": [],
   "source": [
    "#dropping the column engagement_comment_plugin_count\n",
    "data=data.drop('engagement_comment_plugin_count', axis=1)"
   ]
  },
  {
   "cell_type": "code",
   "execution_count": 30,
   "id": "b57476b6-0f5c-433f-87c6-549e25abb1ed",
   "metadata": {},
   "outputs": [],
   "source": [
    "#check titles with a keyword murder\n",
    "\n",
    "def keywordflag(keyword):\n",
    "    length = len(data)\n",
    "    keyword_flag = []\n",
    "    for x in range(0, length) :\n",
    "        heading = data['title'][x]\n",
    "        try:\n",
    "            if keyword in heading:\n",
    "                flag = 1\n",
    "            else:\n",
    "                flag = 0\n",
    "        except:\n",
    "            flag=0\n",
    "        keyword_flag.append (flag)\n",
    "    return keyword_flag\n",
    "    \n",
    "keywordflag = keywordflag( 'murder' )\n",
    "\n",
    "data['keyword']=pd.Series(keywordflag)"
   ]
  },
  {
   "cell_type": "code",
   "execution_count": 10,
   "id": "1aa2610d-f53e-4e35-bf96-292c391e10e8",
   "metadata": {},
   "outputs": [],
   "source": [
    "#Sentiment Intensity Analyzer\n",
    "sent_int= SentimentIntensityAnalyzer()\n",
    "text= data['title'][15]\n",
    "sent=sent_int.polarity_scores(text)"
   ]
  },
  {
   "cell_type": "code",
   "execution_count": 11,
   "id": "c6dbf73d-94bb-4185-b19b-3ea741af3712",
   "metadata": {},
   "outputs": [
    {
     "name": "stdout",
     "output_type": "stream",
     "text": [
      "{'neg': 0.71, 'neu': 0.29, 'pos': 0.0, 'compound': -0.8689}\n"
     ]
    }
   ],
   "source": [
    "print(sent)"
   ]
  },
  {
   "cell_type": "code",
   "execution_count": 18,
   "id": "5c10d30e-33fb-4621-b60a-973eb194a960",
   "metadata": {},
   "outputs": [],
   "source": [
    "title_neg_sentiment =[]\n",
    "title_pos_sentiment =[]\n",
    "title_neu_sentiment =[]\n",
    "\n",
    "length= len(data)\n",
    "\n",
    "for x in range(0,length):\n",
    "    try:\n",
    "        text=data['title'][x]\n",
    "        sent_int= SentimentIntensityAnalyzer()\n",
    "        sent=sent_int.polarity_scores(text)\n",
    "        neg=sent['neg']\n",
    "        pos=sent['pos']\n",
    "        neu=sent['neu']\n",
    "    except:\n",
    "        neg=0\n",
    "        pos=0\n",
    "        neu=0\n",
    "    title_neg_sentiment.append(neg) \n",
    "    title_pos_sentiment.append(pos) \n",
    "    title_neu_sentiment.append(neu) \n",
    "\n",
    "\n",
    "title_neg_sentiment=pd.Series[title_neg_sentiment]\n",
    "title_pos_sentiment=pd.Series[title_pos_sentiment]\n",
    "title_neu_sentiment=pd.Series[title_neu_sentiment]\n"
   ]
  },
  {
   "cell_type": "code",
   "execution_count": 24,
   "id": "7b1df237-0034-4728-8b5b-ea562b75233c",
   "metadata": {},
   "outputs": [],
   "source": [
    "data['title_neg_sentiment']=title_neg_sentiment\n",
    "data['title_pos_sentiment']=title_pos_sentiment\n",
    "data['title_neu_sentiment']=title_neu_sentiment"
   ]
  },
  {
   "cell_type": "code",
   "execution_count": 26,
   "id": "ebe2d0f6-532e-477a-b5c0-7473a2b7a547",
   "metadata": {},
   "outputs": [
    {
     "name": "stdout",
     "output_type": "stream",
     "text": [
      "<class 'pandas.core.frame.DataFrame'>\n",
      "RangeIndex: 10437 entries, 0 to 10436\n",
      "Data columns (total 17 columns):\n",
      " #   Column                     Non-Null Count  Dtype  \n",
      "---  ------                     --------------  -----  \n",
      " 0   article_id                 10437 non-null  int64  \n",
      " 1   source_id                  10437 non-null  object \n",
      " 2   source_name                10437 non-null  object \n",
      " 3   author                     9417 non-null   object \n",
      " 4   title                      10435 non-null  object \n",
      " 5   description                10413 non-null  object \n",
      " 6   url                        10436 non-null  object \n",
      " 7   url_to_image               9781 non-null   object \n",
      " 8   published_at               10436 non-null  object \n",
      " 9   content                    9145 non-null   object \n",
      " 10  top_article                10435 non-null  float64\n",
      " 11  engagement_reaction_count  10319 non-null  float64\n",
      " 12  engagement_comment_count   10319 non-null  float64\n",
      " 13  engagement_share_count     10319 non-null  float64\n",
      " 14  title_neg_sentiment        10437 non-null  float64\n",
      " 15  title_pos_sentiment        10437 non-null  float64\n",
      " 16  title_neu_sentiment        10437 non-null  float64\n",
      "dtypes: float64(7), int64(1), object(9)\n",
      "memory usage: 1.4+ MB\n"
     ]
    }
   ],
   "source": [
    "data.info()"
   ]
  },
  {
   "cell_type": "code",
   "execution_count": 33,
   "id": "cfec95e6-e207-40c2-96d8-a2b1d456055a",
   "metadata": {},
   "outputs": [],
   "source": [
    "#Writing data to Excel file\n",
    "data.to_excel('blogme_clean.xlsx',sheet_name='blockmedata',index=False)"
   ]
  },
  {
   "cell_type": "code",
   "execution_count": 34,
   "id": "b122a5f7-4ffa-4866-8fe9-1ff80774c2cb",
   "metadata": {},
   "outputs": [
    {
     "name": "stdout",
     "output_type": "stream",
     "text": [
      "<class 'pandas.core.frame.DataFrame'>\n",
      "RangeIndex: 10437 entries, 0 to 10436\n",
      "Data columns (total 18 columns):\n",
      " #   Column                     Non-Null Count  Dtype  \n",
      "---  ------                     --------------  -----  \n",
      " 0   article_id                 10437 non-null  int64  \n",
      " 1   source_id                  10437 non-null  object \n",
      " 2   source_name                10437 non-null  object \n",
      " 3   author                     9417 non-null   object \n",
      " 4   title                      10435 non-null  object \n",
      " 5   description                10413 non-null  object \n",
      " 6   url                        10436 non-null  object \n",
      " 7   url_to_image               9781 non-null   object \n",
      " 8   published_at               10436 non-null  object \n",
      " 9   content                    9145 non-null   object \n",
      " 10  top_article                10435 non-null  float64\n",
      " 11  engagement_reaction_count  10319 non-null  float64\n",
      " 12  engagement_comment_count   10319 non-null  float64\n",
      " 13  engagement_share_count     10319 non-null  float64\n",
      " 14  title_neg_sentiment        10437 non-null  float64\n",
      " 15  title_pos_sentiment        10437 non-null  float64\n",
      " 16  title_neu_sentiment        10437 non-null  float64\n",
      " 17  keyword                    10437 non-null  int64  \n",
      "dtypes: float64(7), int64(2), object(9)\n",
      "memory usage: 1.4+ MB\n"
     ]
    }
   ],
   "source": [
    "data.info()"
   ]
  },
  {
   "cell_type": "code",
   "execution_count": null,
   "id": "d3451286-c310-4416-99cb-9bbc001be9b5",
   "metadata": {},
   "outputs": [],
   "source": []
  }
 ],
 "metadata": {
  "kernelspec": {
   "display_name": "Python [conda env:base] *",
   "language": "python",
   "name": "conda-base-py"
  },
  "language_info": {
   "codemirror_mode": {
    "name": "ipython",
    "version": 3
   },
   "file_extension": ".py",
   "mimetype": "text/x-python",
   "name": "python",
   "nbconvert_exporter": "python",
   "pygments_lexer": "ipython3",
   "version": "3.13.5"
  }
 },
 "nbformat": 4,
 "nbformat_minor": 5
}
